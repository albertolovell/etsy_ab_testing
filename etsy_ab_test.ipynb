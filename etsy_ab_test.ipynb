{
 "cells": [
  {
   "cell_type": "code",
   "execution_count": 58,
   "metadata": {},
   "outputs": [],
   "source": [
    "import pandas as pd\n",
    "import numpy as np\n",
    "import matplotlib.pyplot as plt\n",
    "import scipy.stats as scs\n",
    "from two_tailed_z_test import sig_test"
   ]
  },
  {
   "cell_type": "markdown",
   "metadata": {},
   "source": [
    "Exploratory hypothesis testing of the influence of a new landing page vs old landing page on user click through rate based on data from Etsy. Assumptions are that sample size is sufficiently large and that all samples are identical and independently distributed (iid)\n",
    "\n",
    "*Experimental data collected on one day of the week"
   ]
  },
  {
   "cell_type": "code",
   "execution_count": 36,
   "metadata": {},
   "outputs": [],
   "source": [
    "df = pd.read_csv('experiment.csv')\n",
    "country = pd.read_csv('country.csv')"
   ]
  },
  {
   "cell_type": "code",
   "execution_count": 37,
   "metadata": {},
   "outputs": [
    {
     "data": {
      "text/html": [
       "<div>\n",
       "<style scoped>\n",
       "    .dataframe tbody tr th:only-of-type {\n",
       "        vertical-align: middle;\n",
       "    }\n",
       "\n",
       "    .dataframe tbody tr th {\n",
       "        vertical-align: top;\n",
       "    }\n",
       "\n",
       "    .dataframe thead th {\n",
       "        text-align: right;\n",
       "    }\n",
       "</style>\n",
       "<table border=\"1\" class=\"dataframe\">\n",
       "  <thead>\n",
       "    <tr style=\"text-align: right;\">\n",
       "      <th></th>\n",
       "      <th>user_id</th>\n",
       "      <th>ts</th>\n",
       "      <th>ab</th>\n",
       "      <th>landing_page</th>\n",
       "      <th>converted</th>\n",
       "    </tr>\n",
       "  </thead>\n",
       "  <tbody>\n",
       "    <tr>\n",
       "      <th>0</th>\n",
       "      <td>4040615247</td>\n",
       "      <td>1.356998e+09</td>\n",
       "      <td>treatment</td>\n",
       "      <td>new_page</td>\n",
       "      <td>0</td>\n",
       "    </tr>\n",
       "    <tr>\n",
       "      <th>1</th>\n",
       "      <td>4365389205</td>\n",
       "      <td>1.356998e+09</td>\n",
       "      <td>treatment</td>\n",
       "      <td>new_page</td>\n",
       "      <td>0</td>\n",
       "    </tr>\n",
       "    <tr>\n",
       "      <th>2</th>\n",
       "      <td>4256174578</td>\n",
       "      <td>1.356998e+09</td>\n",
       "      <td>treatment</td>\n",
       "      <td>new_page</td>\n",
       "      <td>0</td>\n",
       "    </tr>\n",
       "    <tr>\n",
       "      <th>3</th>\n",
       "      <td>8122359922</td>\n",
       "      <td>1.356998e+09</td>\n",
       "      <td>control</td>\n",
       "      <td>old_page</td>\n",
       "      <td>0</td>\n",
       "    </tr>\n",
       "    <tr>\n",
       "      <th>4</th>\n",
       "      <td>6077269891</td>\n",
       "      <td>1.356998e+09</td>\n",
       "      <td>control</td>\n",
       "      <td>old_page</td>\n",
       "      <td>0</td>\n",
       "    </tr>\n",
       "  </tbody>\n",
       "</table>\n",
       "</div>"
      ],
      "text/plain": [
       "      user_id            ts         ab landing_page  converted\n",
       "0  4040615247  1.356998e+09  treatment     new_page          0\n",
       "1  4365389205  1.356998e+09  treatment     new_page          0\n",
       "2  4256174578  1.356998e+09  treatment     new_page          0\n",
       "3  8122359922  1.356998e+09    control     old_page          0\n",
       "4  6077269891  1.356998e+09    control     old_page          0"
      ]
     },
     "execution_count": 37,
     "metadata": {},
     "output_type": "execute_result"
    }
   ],
   "source": [
    "df.head()"
   ]
  },
  {
   "cell_type": "code",
   "execution_count": 38,
   "metadata": {},
   "outputs": [
    {
     "data": {
      "text/html": [
       "<div>\n",
       "<style scoped>\n",
       "    .dataframe tbody tr th:only-of-type {\n",
       "        vertical-align: middle;\n",
       "    }\n",
       "\n",
       "    .dataframe tbody tr th {\n",
       "        vertical-align: top;\n",
       "    }\n",
       "\n",
       "    .dataframe thead th {\n",
       "        text-align: right;\n",
       "    }\n",
       "</style>\n",
       "<table border=\"1\" class=\"dataframe\">\n",
       "  <thead>\n",
       "    <tr style=\"text-align: right;\">\n",
       "      <th></th>\n",
       "      <th>user_id</th>\n",
       "      <th>country</th>\n",
       "    </tr>\n",
       "  </thead>\n",
       "  <tbody>\n",
       "    <tr>\n",
       "      <th>0</th>\n",
       "      <td>9160993935</td>\n",
       "      <td>UK</td>\n",
       "    </tr>\n",
       "    <tr>\n",
       "      <th>1</th>\n",
       "      <td>5879439034</td>\n",
       "      <td>UK</td>\n",
       "    </tr>\n",
       "    <tr>\n",
       "      <th>2</th>\n",
       "      <td>8915383273</td>\n",
       "      <td>UK</td>\n",
       "    </tr>\n",
       "    <tr>\n",
       "      <th>3</th>\n",
       "      <td>2917824565</td>\n",
       "      <td>US</td>\n",
       "    </tr>\n",
       "    <tr>\n",
       "      <th>4</th>\n",
       "      <td>3980216975</td>\n",
       "      <td>UK</td>\n",
       "    </tr>\n",
       "  </tbody>\n",
       "</table>\n",
       "</div>"
      ],
      "text/plain": [
       "      user_id country\n",
       "0  9160993935      UK\n",
       "1  5879439034      UK\n",
       "2  8915383273      UK\n",
       "3  2917824565      US\n",
       "4  3980216975      UK"
      ]
     },
     "execution_count": 38,
     "metadata": {},
     "output_type": "execute_result"
    }
   ],
   "source": [
    "country.head()"
   ]
  },
  {
   "cell_type": "code",
   "execution_count": 39,
   "metadata": {},
   "outputs": [
    {
     "name": "stdout",
     "output_type": "stream",
     "text": [
      "<class 'pandas.core.frame.DataFrame'>\n",
      "RangeIndex: 191148 entries, 0 to 191147\n",
      "Data columns (total 5 columns):\n",
      "user_id         191148 non-null int64\n",
      "ts              191148 non-null float64\n",
      "ab              191148 non-null object\n",
      "landing_page    191148 non-null object\n",
      "converted       191148 non-null int64\n",
      "dtypes: float64(1), int64(2), object(2)\n",
      "memory usage: 7.3+ MB\n"
     ]
    }
   ],
   "source": [
    "df.info()"
   ]
  },
  {
   "cell_type": "code",
   "execution_count": 40,
   "metadata": {},
   "outputs": [
    {
     "name": "stdout",
     "output_type": "stream",
     "text": [
      "<class 'pandas.core.frame.DataFrame'>\n",
      "RangeIndex: 185076 entries, 0 to 185075\n",
      "Data columns (total 2 columns):\n",
      "user_id    185076 non-null int64\n",
      "country    185076 non-null object\n",
      "dtypes: int64(1), object(1)\n",
      "memory usage: 2.8+ MB\n"
     ]
    }
   ],
   "source": [
    "country.info()"
   ]
  },
  {
   "cell_type": "code",
   "execution_count": 42,
   "metadata": {},
   "outputs": [],
   "source": [
    "#remove duplicates\n",
    "df.drop_duplicates('user_id', keep='last', inplace=True)\n",
    "\n",
    "#remove confilcting inputs (ie treatment ==  control)\n",
    "mask_treatment_newpage = (df['ab'] == 'treatment') & (df['landing_page'] == 'new_page')\n",
    "mask_treatment_oldpage = (df['ab'] == 'treament') & (df['landing_page'] == 'old_page')\n",
    "mask_control_newpage = (df['ab'] == 'control') & (df['landing_page'] == 'new_page')\n",
    "mask_control_oldpage = (df['ab'] == 'control') & (df['landing_page'] == 'old_page')\n",
    "masks = [mask_treatment_newpage, mask_treatment_oldpage, mask_control_newpage, mask_control_oldpage]\n",
    "\n",
    "#check for conflicts by length discrepancy\n",
    "df_length = [len(df[m]) for m in masks]\n",
    "\n",
    "#new dataframe excluding discrepancies and duplicates\n",
    "df = df[~mask_treatment_oldpage]"
   ]
  },
  {
   "cell_type": "code",
   "execution_count": 49,
   "metadata": {},
   "outputs": [
    {
     "data": {
      "text/plain": [
       "0.09964322681524874"
      ]
     },
     "execution_count": 49,
     "metadata": {},
     "output_type": "execute_result"
    }
   ],
   "source": [
    "#dataframe with only control group\n",
    "old = df[df['ab'] == 'control']\n",
    "\n",
    "#baseline click-through rate\n",
    "old_numerator = old[old['converted'] == 1]\n",
    "old_denominator = old['ab'].count()\n",
    "ctr_old = old_numerator['converted'].size / old_denominator\n",
    "ctr_old\n"
   ]
  },
  {
   "cell_type": "code",
   "execution_count": 70,
   "metadata": {},
   "outputs": [
    {
     "data": {
      "text/plain": [
       "0.10492393328729571"
      ]
     },
     "execution_count": 70,
     "metadata": {},
     "output_type": "execute_result"
    }
   ],
   "source": [
    "#dataframe with only treatment group\n",
    "new = df[df['ab'] == 'treatment']\n",
    "\n",
    "#treated click-through rate\n",
    "new_numerator = new[new['converted'] == 1]\n",
    "new_denominator = new['ab'].count()\n",
    "ctr_new = new_numerator['converted'].size / new_denominator\n",
    "ctr_new"
   ]
  },
  {
   "cell_type": "code",
   "execution_count": 71,
   "metadata": {},
   "outputs": [],
   "source": [
    "#number of observations from control group\n",
    "nobs_old = old_denominator"
   ]
  },
  {
   "cell_type": "code",
   "execution_count": 72,
   "metadata": {},
   "outputs": [],
   "source": [
    "#number of observations from treatment group\n",
    "nobs_new = new_denominator"
   ]
  },
  {
   "cell_type": "code",
   "execution_count": 73,
   "metadata": {},
   "outputs": [
    {
     "data": {
      "text/plain": [
       "(90814, 95574)"
      ]
     },
     "execution_count": 73,
     "metadata": {},
     "output_type": "execute_result"
    }
   ],
   "source": [
    "nobs_old, nobs_new"
   ]
  },
  {
   "cell_type": "code",
   "execution_count": 74,
   "metadata": {},
   "outputs": [
    {
     "name": "stdout",
     "output_type": "stream",
     "text": [
      "z-score: 3.759499215723849, p-value: 0.00017025381130486572, reject null: True\n"
     ]
    },
    {
     "data": {
      "text/plain": [
       "(3.759499215723849, 0.00017025381130486572, True)"
      ]
     },
     "execution_count": 74,
     "metadata": {},
     "output_type": "execute_result"
    }
   ],
   "source": [
    "sig_test(ctr_old, ctr_new, nobs_old, nobs_new)"
   ]
  },
  {
   "cell_type": "markdown",
   "metadata": {},
   "source": [
    "Based on the calculated p-value of 0.00017, we can reject the null hypothesis that the lift does not cross the threshold of 1%\n",
    "\n",
    "However, we should be hesistant to accept that this test was significant because this data is only represeantative of one day of the week. User behavior may differ on other days or weekends, and there may be other confounding factors affecting conversion rate. To confirm, we should collect similar data for each day as comparison."
   ]
  },
  {
   "cell_type": "markdown",
   "metadata": {},
   "source": [
    "\n",
    "\n",
    "It is important to note that we should not interrupt an analysis in real-time if we notice our p-values reaching significance. Structuring our data as a time series analysis will illustrate why."
   ]
  },
  {
   "cell_type": "code",
   "execution_count": 84,
   "metadata": {},
   "outputs": [
    {
     "name": "stdout",
     "output_type": "stream",
     "text": [
      "z-score: 1.3390249517174873, p-value: 0.09028127505645223, reject null: False\n",
      "z-score: 1.564116082307394, p-value: 0.05889515490572772, reject null: False\n",
      "z-score: 1.9023315748108924, p-value: 0.028563910141609306, reject null: True\n",
      "z-score: 2.06941511073995, p-value: 0.019253574867581946, reject null: True\n",
      "z-score: 2.070817137955615, p-value: 0.019187944019460557, reject null: True\n",
      "z-score: 2.404300094240038, p-value: 0.008101732834957853, reject null: True\n",
      "z-score: 1.9759691734751146, p-value: 0.024079134342919972, reject null: True\n",
      "z-score: 2.2117975905188647, p-value: 0.013490326841059663, reject null: True\n",
      "z-score: 2.4122798373461527, p-value: 0.0079265543409891, reject null: True\n",
      "z-score: 1.841684210207923, p-value: 0.032760677581939124, reject null: True\n",
      "z-score: 1.8670946436228693, p-value: 0.03094418614992611, reject null: True\n",
      "z-score: 2.180207004401277, p-value: 0.014621060321350243, reject null: True\n",
      "z-score: 2.126944050523457, p-value: 0.016712366098007858, reject null: True\n",
      "z-score: 1.9218068114716482, p-value: 0.027315035469085758, reject null: True\n",
      "z-score: 1.7543595626663575, p-value: 0.039684457825774566, reject null: True\n",
      "z-score: 1.461894511328876, p-value: 0.07188505964371061, reject null: False\n",
      "z-score: 1.8312958094891025, p-value: 0.033528201394317114, reject null: True\n",
      "z-score: 1.7629808472864186, p-value: 0.03895185999900774, reject null: True\n",
      "z-score: 2.3170577447834284, p-value: 0.010250293200423699, reject null: True\n",
      "z-score: 2.185451951232769, p-value: 0.014427862643708877, reject null: True\n",
      "z-score: 2.350985210294022, p-value: 0.009361889028219994, reject null: True\n",
      "z-score: 2.4245853076012045, p-value: 0.007662941060086137, reject null: True\n",
      "z-score: 2.8485400968724086, p-value: 0.002196015927369288, reject null: True\n",
      "[<matplotlib.lines.Line2D object at 0x11513f860>]\n"
     ]
    },
    {
     "data": {
      "image/png": "[encoded data removed]",
      "text/plain": [
       "<Figure size 432x288 with 1 Axes>"
      ]
     },
     "metadata": {},
     "output_type": "display_data"
    }
   ],
   "source": [
    "def time_series(ctr_old, ctr_new, nobs_old, nobs_new):\n",
    "    \n",
    "    #create time series\n",
    "    df['ts'] = pd.to_datetime( df['ts'], unit='s' )\n",
    "    e = len(df['ts']) -1\n",
    "    hours = pd.date_range(start=df['ts'][0],   periods = 25, freq = 'H')\n",
    "\n",
    "    \n",
    "    result = []\n",
    "    for i in range(1, len(hours)-1):\n",
    "\n",
    "        past = df[df['ab'] == 'control']\n",
    "\n",
    "        past = past.loc[ df['ts'] <= '2013-01-01 0{}:00:00'.format(i)]\n",
    "\n",
    "        ctr_num = past[past['converted'] == 1]\n",
    "        denom_ctrl = past['ab'].count()\n",
    "        ctr_old = ctr_num['converted'].size / denom_ctrl\n",
    "        nobs_old = denom_ctrl\n",
    "\n",
    "\n",
    "        new = df[df['ab'] == 'treatment']\n",
    "\n",
    "        new = new.loc[ df['ts'] <= '2013-01-01 0{}:00:00'.format(i)]\n",
    "\n",
    "        ctr_num = new[new['converted'] == 1]\n",
    "        denom_treat = new['ab'].count()\n",
    "        ctr_new = ctr_num['converted'].size / denom_treat\n",
    "        nobs_new = denom_treat\n",
    "\n",
    "        z = sig_test(ctr_old, ctr_new, nobs_old, nobs_new, effect_size=.001, two_tailed=False)\n",
    "        result.append(z[1])\n",
    "    return plt.plot(hours[0:-2], result)\n",
    "\n",
    "print(time_series(ctr_old, ctr_new, nobs_old, nobs_new))"
   ]
  },
  {
   "cell_type": "markdown",
   "metadata": {},
   "source": [
    "Althought the test seems to reach significance around 15 hours it is important to allow the analysis to come to completion and settle towards the mean. As we see in this time series data, p-values for each time slice represents some chance of incorrectly rejecting our null hypothesis. As our real-time p-value fluctuates, the collection of these values bring us closer to a true representation of the data. If prematurely cut short there are not enough data points to reject or accept our null hypothesis with confidence."
   ]
  },
  {
   "cell_type": "code",
   "execution_count": null,
   "metadata": {},
   "outputs": [],
   "source": []
  },
  {
   "cell_type": "code",
   "execution_count": null,
   "metadata": {},
   "outputs": [],
   "source": []
  },
  {
   "cell_type": "code",
   "execution_count": null,
   "metadata": {},
   "outputs": [],
   "source": []
  },
  {
   "cell_type": "code",
   "execution_count": null,
   "metadata": {},
   "outputs": [],
   "source": []
  },
  {
   "cell_type": "code",
   "execution_count": null,
   "metadata": {},
   "outputs": [],
   "source": []
  },
  {
   "cell_type": "code",
   "execution_count": null,
   "metadata": {},
   "outputs": [],
   "source": []
  },
  {
   "cell_type": "code",
   "execution_count": null,
   "metadata": {},
   "outputs": [],
   "source": []
  }
 ],
 "metadata": {
  "kernelspec": {
   "display_name": "Python 3",
   "language": "python",
   "name": "python3"
  },
  "language_info": {
   "codemirror_mode": {
    "name": "ipython",
    "version": 3
   },
   "file_extension": ".py",
   "mimetype": "text/x-python",
   "name": "python",
   "nbconvert_exporter": "python",
   "pygments_lexer": "ipython3",
   "version": "3.6.5"
  }
 },
 "nbformat": 4,
 "nbformat_minor": 2
}
